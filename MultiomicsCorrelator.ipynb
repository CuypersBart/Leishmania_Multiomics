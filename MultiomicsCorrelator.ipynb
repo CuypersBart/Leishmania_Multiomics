{
 "cells": [
  {
   "cell_type": "code",
   "execution_count": 1,
   "id": "c110b2a3",
   "metadata": {},
   "outputs": [],
   "source": [
    "from DataSelect import *\n",
    "FOLDER= \"/Data\"\n",
    "\n",
    "os.chdir(FOLDER)\n",
    "\n",
    "CNVfile = 'CNVs.txt'\n",
    "Somyfile= 'Ploidy.txt'\n",
    "Transcriptfile = 'RNA.txt'\n",
    "Proteinfile = 'Proteins.txt'\n",
    "Outputfile = 'Normalised_multiomics_perchrom.txt'\n",
    "transdict, samples = readomic(Transcriptfile)\n",
    "proteindict, samples = readomic(Proteinfile)\n",
    "ploidydict, samples = readomic(Somyfile)\n",
    "\n",
    "trans = normalise(dicttopandas(transdict))\n",
    "protein = dicttopandas(proteindict)\n",
    "\n",
    "diploidref = {}\n",
    "\n",
    "for chromosome in ploidydict:\n",
    "    if chromosome[2:] not in ['31','09','23','37']: #Exclude chromosomes that are never diploid\n",
    "        diploidref[chromosome] = []\n",
    "        for sample in samples:\n",
    "            if 'S' not in sample and 'L' not in sample: #Exclude STAT phase samples and 'L' samples, which are extra LOG samples paired with STAT\n",
    "                factor = float(ploidydict[chromosome][sample])\n",
    "                if factor > 1.8 and factor < 2.2: #Tolerance on somy for chromosome to be considered diploid\n",
    "                    diploidref[chromosome].append([sample,factor])\n",
    "                    diploidref[chromosome].append([sample.replace('.1','.2'),factor])\n",
    "                    diploidref[chromosome].append([sample.replace('.1','.3'),factor])\n",
    "                    diploidref[chromosome].append([sample.replace('.1','.4'),factor])\n",
    "\n",
    "Groups = ['282', '173', '575', '288', '178', '275']\n",
    "\n",
    "PloidyFCperchrom = ploidyperchrom(ploidydict)\n",
    "\n",
    "TransFC = foldchange(Groups, diploidref, trans, datatype=\"LOG\", select='all', randomref = False)\n",
    "TransFCperchromALL = chromaverager(TransFC, Groups)\n",
    "\n",
    "ProteinFC = foldchangePT(Groups, diploidref, protein, datatype=\"else\", select='all', randomref = False)\n",
    "ProteinFCperchromALL = chromaverager(ProteinFC, Groups)\n",
    "\n",
    "with open(Outputfile, 'w') as mywritefile:\n",
    "    mywritefile.write(\"\\t\".join(\n",
    "        [\"ID\", \"Chromosome\", \"Sample\", \"Somy\", \"TransAverage\",\n",
    "         \"ProteinAverage\", \"NProteins\"]) + '\\n')\n",
    "    for chr in TransFCperchromALL:\n",
    "        for sample in TransFCperchromALL[chr]:\n",
    "            mywritefile.write(''.join([str(chr + '_' + sample), '\\t', chr, '\\t', sample, '\\t', transformer(\n",
    "                [PloidyFCperchrom[chr][sample], TransFCperchromALL[chr][sample][0],\n",
    "                 ProteinFCperchromALL[chr][sample][0]]), '\\t' + str(ProteinFCperchromALL[chr][sample][1]), '\\n']))"
   ]
  },
  {
   "cell_type": "code",
   "execution_count": null,
   "id": "3889a8c0",
   "metadata": {},
   "outputs": [],
   "source": []
  }
 ],
 "metadata": {
  "kernelspec": {
   "display_name": "Python 3 (ipykernel)",
   "language": "python",
   "name": "python3"
  },
  "language_info": {
   "codemirror_mode": {
    "name": "ipython",
    "version": 3
   },
   "file_extension": ".py",
   "mimetype": "text/x-python",
   "name": "python",
   "nbconvert_exporter": "python",
   "pygments_lexer": "ipython3",
   "version": "3.8.5"
  }
 },
 "nbformat": 4,
 "nbformat_minor": 5
}
